{
 "cells": [
  {
   "cell_type": "markdown",
   "id": "d2dd5af1-4856-471d-aa06-27f2261aa33b",
   "metadata": {},
   "source": [
    "# Before you start:\n",
    "### Make sure you run this in the DEEPLABCUT virtual environment"
   ]
  },
  {
   "cell_type": "code",
   "execution_count": 1,
   "id": "e2dcd6e2-b7a2-42c5-9dea-a7694537a825",
   "metadata": {},
   "outputs": [
    {
     "name": "stdout",
     "output_type": "stream",
     "text": [
      "Loading DLC 3.0.0rc9...\n"
     ]
    }
   ],
   "source": [
    "#imports and definitions\n",
    "import pandas as pd\n",
    "import deeplabcut\n",
    "import os\n",
    "def find_deeplabcut_project(_base_dir, _project_name, _experimenter_name):\n",
    "    for folder in os.listdir(_base_dir):\n",
    "        if folder.startswith(_project_name + \"-\" + _experimenter_name):\n",
    "            return os.path.join(_base_dir, folder)\n",
    "    return None"
   ]
  },
  {
   "cell_type": "markdown",
   "id": "2e35a11a-ad96-4217-8ab3-90909c32f4a9",
   "metadata": {},
   "source": [
    "# Select project paths"
   ]
  },
  {
   "cell_type": "code",
   "execution_count": 2,
   "id": "277ee9cf-f4a6-401b-91e6-6634a788fb22",
   "metadata": {},
   "outputs": [],
   "source": [
    "#Run this always, edit the 2 variables below\n",
    "project_name = \"oscillator\" #IMPORTANT: NO SPACES\n",
    "experimenter_name = \"Nils-Sommerfeld\" #IMPORTANT: NO SPACES\n",
    "\n",
    "\n",
    "#do not edit\n",
    "base_directory = os.getcwd() #The new folder you created\n",
    "if \" \" in project_name:\n",
    "    raise ValueError(\"Space in project_name\")\n",
    "if \" \" in experimenter_name:\n",
    "    raise ValueError(\"Space in experimenter_name\")"
   ]
  },
  {
   "cell_type": "markdown",
   "id": "36fd2d02-121a-4259-9e6f-c5819b77c925",
   "metadata": {},
   "source": [
    "# Create new project\n",
    "Set any image from your training data to pass"
   ]
  },
  {
   "cell_type": "code",
   "execution_count": 4,
   "id": "98736407-2e7c-4d32-bdd3-61598d23a453",
   "metadata": {},
   "outputs": [
    {
     "name": "stdout",
     "output_type": "stream",
     "text": [
      "Project \"C:\\Users\\somme\\Documents\\DNA\\pose_test\\oscillator-Nils-Sommerfeld-2025-07-25\" already exists!\n"
     ]
    },
    {
     "data": {
      "text/plain": [
       "'C:\\\\Users\\\\somme\\\\Documents\\\\DNA\\\\pose_test\\\\oscillator-Nils-Sommerfeld-2025-07-25\\\\config.yaml'"
      ]
     },
     "execution_count": 4,
     "metadata": {},
     "output_type": "execute_result"
    }
   ],
   "source": [
    "#enter the path of any of your training data images (below is assumed that your training data is in your project folder, otherwise\n",
    "#    edit the 3rd argument in deeplabcut.create_new_project()\n",
    "training_image = \"training_data_750\\\\osc0001\"\n",
    "\n",
    "\n",
    "training_image_extension = \".png\"\n",
    "deeplabcut.create_new_project(\n",
    "    project_name,\n",
    "    experimenter_name,\n",
    "    [base_directory + \"\\\\\" + training_image + training_image_extension],\n",
    "    copy_videos = False,\n",
    "    multianimal = False,\n",
    ")"
   ]
  },
  {
   "cell_type": "markdown",
   "id": "1645f9ba-5b49-4c9f-8181-2a50e356ec94",
   "metadata": {},
   "source": [
    "# Configure project location\n",
    "### Before you continue, do 2 things.\n",
    "### First, add bodyparts. Go into the config.yaml file (which exists in the project folderthat was just created) and manually add/edit the bodyparts of your project\n",
    "### Second, paste your training data into the folder (which should share names with the image you passed when you created the project) and is in the 'labeled-data' folder in the project that was just created"
   ]
  },
  {
   "cell_type": "code",
   "execution_count": 3,
   "id": "c92dd5f7-85a2-4a9c-a362-447d5556b0c4",
   "metadata": {},
   "outputs": [
    {
     "name": "stdout",
     "output_type": "stream",
     "text": [
      "C:\\Users\\somme\\Documents\\DNA\\pose_test\\oscillator-Nils-Sommerfeld-2025-07-25\\config.yaml\n"
     ]
    }
   ],
   "source": [
    "config_path = find_deeplabcut_project(base_directory, project_name, experimenter_name) + \"\\\\config.yaml\"\n",
    "print (config_path)"
   ]
  },
  {
   "cell_type": "markdown",
   "id": "316cfe7a-7e30-4b07-831e-72fb7df0b905",
   "metadata": {},
   "source": [
    "# Label Data"
   ]
  },
  {
   "cell_type": "code",
   "execution_count": 4,
   "id": "e8c81ca4-6240-46d3-8174-a5817827774b",
   "metadata": {},
   "outputs": [
    {
     "name": "stderr",
     "output_type": "stream",
     "text": [
      "WARNING: DirectWrite: CreateFontFaceFromHDC() failed (Indicates an error in an input file such as a font file.) for QFontDef(Family=\"MS Sans Serif\", pointsize=12, pixelsize=16, styleHint=5, weight=400, stretch=100, hintingPreference=0) LOGFONT(\"MS Sans Serif\", lfWidth=0, lfHeight=-16) dpi=96\n"
     ]
    }
   ],
   "source": [
    "deeplabcut.label_frames(config_path)\n",
    "#If asked for a version of the napari reader, the first one works fine, I don't know if the second one works.\n",
    "#You must open the config file for your project with open file\n",
    "#You must open the folder you want to use as your training data with open folder (this folder should be under labeled-data in the project folder)\n",
    "#After you are done labelling, make sure you select the layer called \"CollectedData\" or something to that degree,\n",
    "#    then do \"Save Selected Layer(s)\" or ctrl+s, and an h5 and csv file should appear in the folder with the images.\n",
    "#This may throw an error if you've done something wrong\n",
    "\n",
    "#Also if anything seems weird with your layers, you might have more than 2 open, you only want one layer of images and one layer of collected data.\n",
    "#If you do have more that 2 open, just delete them all and reopen your config file and folder."
   ]
  },
  {
   "cell_type": "markdown",
   "id": "b1f674b5-60ec-4bfe-a20e-094fd129b3fc",
   "metadata": {},
   "source": [
    "## Optional: Create images of labeled frames"
   ]
  },
  {
   "cell_type": "code",
   "execution_count": 39,
   "id": "ab19724f-595d-442f-8591-240079197c24",
   "metadata": {},
   "outputs": [
    {
     "name": "stdout",
     "output_type": "stream",
     "text": [
      "Creating images with labels by Nils-Sommerfeld.\n"
     ]
    },
    {
     "name": "stderr",
     "output_type": "stream",
     "text": [
      "100%|██████████| 30/30 [00:00<00:00, 98.10it/s]\n",
      "100%|██████████| 15/15 [00:00<00:00, 85.66it/s]"
     ]
    },
    {
     "name": "stdout",
     "output_type": "stream",
     "text": [
      "If all the labels are ok, then use the function 'create_training_dataset' to create the training dataset!\n"
     ]
    },
    {
     "name": "stderr",
     "output_type": "stream",
     "text": [
      "\n"
     ]
    }
   ],
   "source": [
    "deeplabcut.check_labels(config_path, visualizeindividuals=True)\n",
    "#This creates an additional folder for each \"video file\" in the labeled-data folder which has images of all labeled frames"
   ]
  },
  {
   "cell_type": "markdown",
   "id": "f1bc33b8-8736-47d0-beb7-71f10c14c8cd",
   "metadata": {},
   "source": [
    "# Train Network"
   ]
  },
  {
   "cell_type": "code",
   "execution_count": 10,
   "id": "c5c0bce0-d64e-4634-a953-86413486adb2",
   "metadata": {},
   "outputs": [
    {
     "name": "stdout",
     "output_type": "stream",
     "text": [
      "C:\\Users\\somme\\Documents\\DNA\\pose_test\\oscillator_test-Nils-Sommerfeld-2025-07-24\\labeled-data\\test_validate\\CollectedData_Nils-Sommerfeld.h5  not found (perhaps not annotated).\n",
      "Downloading a ImageNet-pretrained model from http://download.tensorflow.org/models/resnet_v1_50_2016_08_28.tar.gz....\n",
      "The training dataset is successfully created. Use the function 'train_network' to start training. Happy training!\n",
      "[(0.95, 1, (array([ 2, 28, 13, 10, 26, 24, 27, 11, 17, 22,  5, 16,  8, 14, 23, 20,  1,\n",
      "       29,  6,  4, 18, 19,  9,  7, 25,  3,  0, 21]), array([15, 12])))]\n"
     ]
    }
   ],
   "source": [
    "#WARNING: This will create a dataset that automatically uses 5% of your labeled frames as validation data.\n",
    "# If you want to change how much of your data is validation vs. training, you can edit that in the config.yaml file/\n",
    "temp = deeplabcut.create_training_dataset(config_path)\n",
    "print(temp)"
   ]
  },
  {
   "cell_type": "code",
   "execution_count": null,
   "id": "3813d5ae-5638-4291-b7c9-12c128577deb",
   "metadata": {},
   "outputs": [
    {
     "name": "stderr",
     "output_type": "stream",
     "text": [
      "Config:\n",
      "{'all_joints': [[0], [1], [2], [3], [4], [5], [6], [7], [8]],\n",
      " 'all_joints_names': ['long_plat',\n",
      "                      'long_hinge',\n",
      "                      'long_arm',\n",
      "                      'inner_arm_long',\n",
      "                      'inner_hinge',\n",
      "                      'inner_arm_short',\n",
      "                      'short_arm',\n",
      "                      'short_hinge',\n",
      "                      'short_plat'],\n",
      " 'alpha_r': 0.02,\n",
      " 'apply_prob': 0.5,\n",
      " 'batch_size': 1,\n",
      " 'contrast': {'clahe': True,\n",
      "              'claheratio': 0.1,\n",
      "              'histeq': True,\n",
      "              'histeqratio': 0.1},\n",
      " 'convolution': {'edge': False,\n",
      "                 'emboss': {'alpha': [0.0, 1.0], 'strength': [0.5, 1.5]},\n",
      "                 'embossratio': 0.1,\n",
      "                 'sharpen': False,\n",
      "                 'sharpenratio': 0.3},\n",
      " 'crop_pad': 0,\n",
      " 'cropratio': 0.4,\n",
      " 'dataset': 'training-datasets\\\\iteration-0\\\\UnaugmentedDataSet_oscillator_testJul24\\\\oscillator_test_Nils-Sommerfeld95shuffle1.mat',\n",
      " 'dataset_type': 'default',\n",
      " 'decay_steps': 30000,\n",
      " 'deterministic': False,\n",
      " 'display_iters': 1000,\n",
      " 'fg_fraction': 0.25,\n",
      " 'global_scale': 0.8,\n",
      " 'init_weights': 'C:\\\\Users\\\\somme\\\\anaconda3\\\\envs\\\\DEEPLABCUT\\\\lib\\\\site-packages\\\\deeplabcut\\\\pose_estimation_tensorflow\\\\models\\\\pretrained\\\\resnet_v1_50.ckpt',\n",
      " 'intermediate_supervision': False,\n",
      " 'intermediate_supervision_layer': 12,\n",
      " 'location_refinement': True,\n",
      " 'locref_huber_loss': True,\n",
      " 'locref_loss_weight': 0.05,\n",
      " 'locref_stdev': 7.2801,\n",
      " 'log_dir': 'log',\n",
      " 'lr_init': 0.0005,\n",
      " 'max_input_size': 1500,\n",
      " 'mean_pixel': [123.68, 116.779, 103.939],\n",
      " 'metadataset': 'training-datasets\\\\iteration-0\\\\UnaugmentedDataSet_oscillator_testJul24\\\\Documentation_data-oscillator_test_95shuffle1.pickle',\n",
      " 'min_input_size': 64,\n",
      " 'mirror': False,\n",
      " 'multi_stage': False,\n",
      " 'multi_step': [[0.005, 10000],\n",
      "                [0.02, 430000],\n",
      "                [0.002, 730000],\n",
      "                [0.001, 1030000]],\n",
      " 'net_type': 'resnet_50',\n",
      " 'num_joints': 9,\n",
      " 'optimizer': 'sgd',\n",
      " 'pairwise_huber_loss': False,\n",
      " 'pairwise_predict': False,\n",
      " 'partaffinityfield_predict': False,\n",
      " 'pos_dist_thresh': 17,\n",
      " 'project_path': 'C:\\\\Users\\\\somme\\\\Documents\\\\DNA\\\\pose_test\\\\oscillator_test-Nils-Sommerfeld-2025-07-24',\n",
      " 'regularize': False,\n",
      " 'rotation': 25,\n",
      " 'rotratio': 0.4,\n",
      " 'save_iters': 50000,\n",
      " 'scale_jitter_lo': 0.5,\n",
      " 'scale_jitter_up': 1.25,\n",
      " 'scoremap_dir': 'test',\n",
      " 'shuffle': True,\n",
      " 'snapshot_prefix': 'C:\\\\Users\\\\somme\\\\Documents\\\\DNA\\\\pose_test\\\\oscillator_test-Nils-Sommerfeld-2025-07-24\\\\dlc-models\\\\iteration-0\\\\oscillator_testJul24-trainset95shuffle1\\\\train\\\\snapshot',\n",
      " 'stride': 8.0,\n",
      " 'weigh_negatives': False,\n",
      " 'weigh_only_present_joints': False,\n",
      " 'weigh_part_predictions': False,\n",
      " 'weight_decay': 0.0001}\n"
     ]
    },
    {
     "name": "stdout",
     "output_type": "stream",
     "text": [
      "Selecting single-animal trainer\n",
      "Batch Size is 1\n"
     ]
    },
    {
     "name": "stderr",
     "output_type": "stream",
     "text": [
      "C:\\Users\\somme\\anaconda3\\envs\\DEEPLABCUT\\lib\\site-packages\\tensorflow\\python\\keras\\engine\\base_layer_v1.py:1694: UserWarning: `layer.apply` is deprecated and will be removed in a future version. Please use `layer.__call__` method instead.\n",
      "  warnings.warn('`layer.apply` is deprecated and '\n"
     ]
    },
    {
     "name": "stdout",
     "output_type": "stream",
     "text": [
      "Loading ImageNet-pretrained resnet_50\n"
     ]
    },
    {
     "name": "stderr",
     "output_type": "stream",
     "text": [
      "C:\\Users\\somme\\anaconda3\\envs\\DEEPLABCUT\\lib\\site-packages\\deeplabcut\\pose_estimation_tensorflow\\core\\train.py:228: UserWarning: Switching to Adam, as SGD crashes on Apple Silicon.\n",
      "  warnings.warn(\"Switching to Adam, as SGD crashes on Apple Silicon.\")\n",
      "Exception in thread Thread-5 (load_and_enqueue):\n",
      "Traceback (most recent call last):\n",
      "  File \"C:\\Users\\somme\\anaconda3\\envs\\DEEPLABCUT\\lib\\threading.py\", line 1016, in _bootstrap_inner\n",
      "    self.run()\n",
      "  File \"C:\\Users\\somme\\anaconda3\\envs\\DEEPLABCUT\\lib\\site-packages\\ipykernel\\ipkernel.py\", line 766, in run_closure\n",
      "    _threading_Thread_run(self)\n",
      "  File \"C:\\Users\\somme\\anaconda3\\envs\\DEEPLABCUT\\lib\\threading.py\", line 953, in run\n",
      "    self._target(*self._args, **self._kwargs)\n",
      "  File \"C:\\Users\\somme\\anaconda3\\envs\\DEEPLABCUT\\lib\\site-packages\\deeplabcut\\pose_estimation_tensorflow\\core\\train.py\", line 84, in load_and_enqueue\n",
      "    batch_np = dataset.next_batch()\n",
      "  File \"C:\\Users\\somme\\anaconda3\\envs\\DEEPLABCUT\\lib\\site-packages\\deeplabcut\\pose_estimation_tensorflow\\datasets\\pose_imgaug.py\", line 406, in next_batch\n",
      "    ) = self.get_batch()\n",
      "  File \"C:\\Users\\somme\\anaconda3\\envs\\DEEPLABCUT\\lib\\site-packages\\deeplabcut\\pose_estimation_tensorflow\\datasets\\pose_imgaug.py\", line 321, in get_batch\n",
      "    raise ValueError(\n",
      "ValueError: Image size [120 120] may be too small. Consider decreasing `min_input_size` and/or increasing `global_scale` in the train/pose_cfg.yaml.\n"
     ]
    },
    {
     "name": "stdout",
     "output_type": "stream",
     "text": [
      "Max_iters overwritten as 20\n",
      "Display_iters overwritten as 100\n",
      "Save_iters overwritten as 5\n",
      "Training parameter:\n",
      "{'stride': 8.0, 'weigh_part_predictions': False, 'weigh_negatives': False, 'fg_fraction': 0.25, 'mean_pixel': [123.68, 116.779, 103.939], 'shuffle': True, 'snapshot_prefix': 'C:\\\\Users\\\\somme\\\\Documents\\\\DNA\\\\pose_test\\\\oscillator_test-Nils-Sommerfeld-2025-07-24\\\\dlc-models\\\\iteration-0\\\\oscillator_testJul24-trainset95shuffle1\\\\train\\\\snapshot', 'log_dir': 'log', 'global_scale': 0.8, 'location_refinement': True, 'locref_stdev': 7.2801, 'locref_loss_weight': 0.05, 'locref_huber_loss': True, 'optimizer': 'adam', 'intermediate_supervision': False, 'intermediate_supervision_layer': 12, 'regularize': False, 'weight_decay': 0.0001, 'crop_pad': 0, 'scoremap_dir': 'test', 'batch_size': 1, 'dataset_type': 'default', 'deterministic': False, 'mirror': False, 'pairwise_huber_loss': False, 'weigh_only_present_joints': False, 'partaffinityfield_predict': False, 'pairwise_predict': False, 'all_joints': [[0], [1], [2], [3], [4], [5], [6], [7], [8]], 'all_joints_names': ['long_plat', 'long_hinge', 'long_arm', 'inner_arm_long', 'inner_hinge', 'inner_arm_short', 'short_arm', 'short_hinge', 'short_plat'], 'alpha_r': 0.02, 'apply_prob': 0.5, 'contrast': {'clahe': True, 'claheratio': 0.1, 'histeq': True, 'histeqratio': 0.1, 'gamma': False, 'sigmoid': False, 'log': False, 'linear': False}, 'convolution': {'edge': False, 'emboss': {'alpha': [0.0, 1.0], 'strength': [0.5, 1.5]}, 'embossratio': 0.1, 'sharpen': False, 'sharpenratio': 0.3}, 'cropratio': 0.4, 'dataset': 'training-datasets\\\\iteration-0\\\\UnaugmentedDataSet_oscillator_testJul24\\\\oscillator_test_Nils-Sommerfeld95shuffle1.mat', 'decay_steps': 30000, 'display_iters': 1000, 'init_weights': 'C:\\\\Users\\\\somme\\\\anaconda3\\\\envs\\\\DEEPLABCUT\\\\lib\\\\site-packages\\\\deeplabcut\\\\pose_estimation_tensorflow\\\\models\\\\pretrained\\\\resnet_v1_50.ckpt', 'lr_init': 0.0005, 'max_input_size': 1500, 'metadataset': 'training-datasets\\\\iteration-0\\\\UnaugmentedDataSet_oscillator_testJul24\\\\Documentation_data-oscillator_test_95shuffle1.pickle', 'min_input_size': 64, 'multi_stage': False, 'multi_step': [[0.0001, 7500], [5e-05, 12000], [1e-05, 200000]], 'net_type': 'resnet_50', 'num_joints': 9, 'pos_dist_thresh': 17, 'project_path': 'C:\\\\Users\\\\somme\\\\Documents\\\\DNA\\\\pose_test\\\\oscillator_test-Nils-Sommerfeld-2025-07-24', 'rotation': 25, 'rotratio': 0.4, 'save_iters': 50000, 'scale_jitter_lo': 0.5, 'scale_jitter_up': 1.25, 'covering': True, 'elastic_transform': True, 'motion_blur': True, 'motion_blur_params': {'k': 7, 'angle': (-90, 90)}}\n",
      "Starting training....\n"
     ]
    }
   ],
   "source": [
    "deeplabcut.train_network(\n",
    "    config_path,\n",
    "    shuffle=1,\n",
    "    trainingsetindex=0,\n",
    "    gputouse=0,                   # instead of device=\"cuda:0\"\n",
    "    max_snapshots_to_keep=5,\n",
    "    displayiters=100,\n",
    "    saveiters=5,                  # note: saveiters, not save_epochs\n",
    "    maxiters=20,             # epochs aren't a thing here—use iterations\n",
    "    allow_growth=True\n",
    ")\n",
    "#This is going to give a big red screen but it will be fine\n",
    "#This may also take a while. It may be worth it instead of running this on your own machine to run it in a google co-lab or with something else\n",
    "#Also there is some functionality that saves training checkpoints after a certain number of epochs, and then training can be continued from there."
   ]
  },
  {
   "cell_type": "markdown",
   "id": "88a56f79-5c00-40a5-8652-1da9098beca0",
   "metadata": {},
   "source": [
    "# Refine\n",
    "Now you can move on to deeplabcut_refine.ipynb"
   ]
  },
  {
   "cell_type": "code",
   "execution_count": null,
   "id": "28f33f15-c782-4cfb-aa93-3037a7728030",
   "metadata": {},
   "outputs": [],
   "source": []
  }
 ],
 "metadata": {
  "kernelspec": {
   "display_name": "Python [conda env:DEEPLABCUT]",
   "language": "python",
   "name": "conda-env-DEEPLABCUT-py"
  },
  "language_info": {
   "codemirror_mode": {
    "name": "ipython",
    "version": 3
   },
   "file_extension": ".py",
   "mimetype": "text/x-python",
   "name": "python",
   "nbconvert_exporter": "python",
   "pygments_lexer": "ipython3",
   "version": "3.10.18"
  }
 },
 "nbformat": 4,
 "nbformat_minor": 5
}
