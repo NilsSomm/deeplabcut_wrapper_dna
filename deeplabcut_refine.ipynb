{
 "cells": [
  {
   "cell_type": "code",
   "execution_count": 93,
   "id": "90efde75-39d9-4269-bc36-740870645b84",
   "metadata": {},
   "outputs": [],
   "source": [
    "#imports and definitions\n",
    "import pandas as pd\n",
    "import deeplabcut\n",
    "import os\n",
    "import numpy as np\n",
    "def find_deeplabcut_project(_base_dir, _project_name, _experimenter_name):\n",
    "    for folder in os.listdir(_base_dir):\n",
    "        if folder.startswith(_project_name + \"-\" + _experimenter_name):\n",
    "            return os.path.join(_base_dir, folder)\n",
    "    return None"
   ]
  },
  {
   "cell_type": "markdown",
   "id": "bf56ca26-4e95-4956-aff8-98ed4e16b124",
   "metadata": {},
   "source": [
    "# Setup\n",
    "To do analysis of data, create a new folder in the labeled-data directory, and paste your png files to analyze inside."
   ]
  },
  {
   "cell_type": "code",
   "execution_count": 139,
   "id": "e4e0a71b-a4f7-4712-a4e9-352f6f22db40",
   "metadata": {},
   "outputs": [
    {
     "name": "stdout",
     "output_type": "stream",
     "text": [
      "C:\\Users\\somme\\Documents\\DNA\\pose_test\\oscillator_test-Nils-Sommerfeld-2025-07-22\\config.yaml\n",
      "C:\\Users\\somme\\Documents\\DNA\\pose_test\\oscillator_test-Nils-Sommerfeld-2025-07-22\\labeled-data\\TEST_analyze\n",
      "C:\\Users\\somme\\Documents\\DNA\\pose_test\\oscillator_test-Nils-Sommerfeld-2025-07-22\\labeled-data\\test_train\n"
     ]
    }
   ],
   "source": [
    "#setup: always run\n",
    "project_name = \"oscillator_test\" #IMPORTANT: NO SPACES\n",
    "experimenter_name = \"Nils-Sommerfeld\" #IMPORTANT: NO SPACES\n",
    "training_folder_name = \"test_train\"\n",
    "analysis_folder_name = \"TEST_analyze\"\n",
    "\n",
    "\n",
    "\n",
    "base_directory = os.getcwd() #The new folder you created\n",
    "config_path = find_deeplabcut_project(base_directory, project_name, experimenter_name) + \"\\\\config.yaml\"\n",
    "print (config_path)\n",
    "analysis_folder = find_deeplabcut_project(base_directory, project_name, experimenter_name) + \"\\\\labeled-data\\\\\" + analysis_folder_name\n",
    "print(analysis_folder)\n",
    "training_folder = find_deeplabcut_project(base_directory, project_name, experimenter_name) + \"\\\\labeled-data\\\\\" + training_folder_name\n",
    "print(training_folder)"
   ]
  },
  {
   "cell_type": "markdown",
   "id": "6825d78f-7077-4db5-bc5f-766b92011cff",
   "metadata": {},
   "source": [
    "# Do analysis"
   ]
  },
  {
   "cell_type": "code",
   "execution_count": 1,
   "id": "202c487c-837d-4cd7-8a2c-a2231a601b9b",
   "metadata": {},
   "outputs": [],
   "source": [
    "deeplabcut.analyze_images(config_path, [analysis_folder], save_as_csv=True)"
   ]
  },
  {
   "cell_type": "markdown",
   "id": "fe695aac-bb48-4210-9a58-52ea12b6a0ff",
   "metadata": {},
   "source": [
    "# Convert analysis file"
   ]
  },
  {
   "cell_type": "code",
   "execution_count": 59,
   "id": "a89446c5-0d27-43c5-8387-ee09f79d6c36",
   "metadata": {},
   "outputs": [
    {
     "name": "stdout",
     "output_type": "stream",
     "text": [
      "File to convert: C:\\Users\\somme\\Documents\\DNA\\pose_test\\oscillator_test-Nils-Sommerfeld-2025-07-22\\labeled-data\\TEST_analyze\\image_predictions_DLC_Resnet50_oscillator_testJul22shuffle1_snapshot_090.h5\n",
      "Training file to copy format from: C:\\Users\\somme\\Documents\\DNA\\pose_test\\oscillator_test-Nils-Sommerfeld-2025-07-22\\labeled-data\\test_train\\CollectedData_Nils-Sommerfeld.h5\n"
     ]
    }
   ],
   "source": [
    "#Ok now we have to do something very stupid:\n",
    "    #To refine labels on the analyzed data, we need to trick deeplabcut into thinking its training data.\n",
    "    #This is harder than it seems, as training and analyzed data have different outputs.\n",
    "file_to_convert = \"\";\n",
    "for folder in os.listdir(analysis_folder):\n",
    "    if folder.startswith(\"image_prediction\") and folder.endswith(\".h5\"):\n",
    "        file_to_convert = os.path.join(analysis_folder, folder)\n",
    "\n",
    "#file_to_convert = \"C:\\\\Users\\\\somme\\\\Documents\\\\DNA\\\\pose_test\\\\oscillator_test-Nils-Sommerfeld-2025-07-22\\\\labeled-data\\\\TEST_analyze\\\\image_predictions_DLC_Resnet50_oscillator_testJul22shuffle1_snapshot_090.h5\"\n",
    "print(\"File to convert: \" + file_to_convert)\n",
    "\n",
    "file_to_copy_format = training_folder + \"\\\\CollectedData_\" + experimenter_name + \".h5\"\n",
    "print(\"Training file to copy format from: \" + file_to_copy_format)"
   ]
  },
  {
   "cell_type": "code",
   "execution_count": 149,
   "id": "f467a319-a4e9-406d-9a07-6d7142f974b1",
   "metadata": {
    "scrolled": true
   },
   "outputs": [
    {
     "name": "stdout",
     "output_type": "stream",
     "text": [
      "DLC_Resnet50_oscillator_testJul22shuffle1_snapshot_090\n",
      "Index(['long_plat', 'long_hinge', 'long_arm', 'inner_arm_long', 'inner_hinge',\n",
      "       'inner_arm_short', 'short_arm', 'short_hinge', 'short_plat'],\n",
      "      dtype='object', name='bodyparts')\n",
      "47.75517\n",
      "nan\n",
      "100\n"
     ]
    },
    {
     "name": "stderr",
     "output_type": "stream",
     "text": [
      "C:\\Users\\somme\\AppData\\Local\\Temp\\ipykernel_49020\\1871266089.py:44: PerformanceWarning: \n",
      "your performance may suffer as PyTables will pickle object types that it cannot\n",
      "map directly to c-types [inferred_type->floating,key->block0_values] [items->MultiIndex([('Nils-Sommerfeld',       'long_plat', 'x'),\n",
      "            ('Nils-Sommerfeld',       'long_plat', 'y'),\n",
      "            ('Nils-Sommerfeld',      'long_hinge', 'x'),\n",
      "            ('Nils-Sommerfeld',      'long_hinge', 'y'),\n",
      "            ('Nils-Sommerfeld',        'long_arm', 'x'),\n",
      "            ('Nils-Sommerfeld',        'long_arm', 'y'),\n",
      "            ('Nils-Sommerfeld',  'inner_arm_long', 'x'),\n",
      "            ('Nils-Sommerfeld',  'inner_arm_long', 'y'),\n",
      "            ('Nils-Sommerfeld',     'inner_hinge', 'x'),\n",
      "            ('Nils-Sommerfeld',     'inner_hinge', 'y'),\n",
      "            ('Nils-Sommerfeld', 'inner_arm_short', 'x'),\n",
      "            ('Nils-Sommerfeld', 'inner_arm_short', 'y'),\n",
      "            ('Nils-Sommerfeld',       'short_arm', 'x'),\n",
      "            ('Nils-Sommerfeld',       'short_arm', 'y'),\n",
      "            ('Nils-Sommerfeld',     'short_hinge', 'x'),\n",
      "            ('Nils-Sommerfeld',     'short_hinge', 'y'),\n",
      "            ('Nils-Sommerfeld',      'short_plat', 'x'),\n",
      "            ('Nils-Sommerfeld',      'short_plat', 'y')],\n",
      "           names=['scorer', 'bodyparts', 'coords'])]\n",
      "\n",
      "  new_df.to_hdf(\"CollectedData_\" + experimenter_name + \".h5\", key=\"df_with_missing\", mode=\"w\")\n"
     ]
    }
   ],
   "source": [
    "original_df = pd.read_hdf(file_to_copy_format)\n",
    "column_format = original_df.columns  # a MultiIndex\n",
    "\n",
    "\n",
    "data_to_copy = pd.read_hdf(file_to_convert)\n",
    "\n",
    "images_list = [val for val in os.listdir(analysis_folder) if val.endswith(\".png\")]\n",
    "length = len(images_list)\n",
    "labeled_data_string_arr = ['labeled-data'] * length\n",
    "analyzed_data_folder_name_string_arr = [analysis_folder_name] * length\n",
    "\n",
    "multi_index = pd.MultiIndex.from_arrays([labeled_data_string_arr, analyzed_data_folder_name_string_arr, images_list],)\n",
    "\n",
    "#CREATE NEW FILE IN CORRECT FORMAT\n",
    "new_df = pd.DataFrame(columns=column_format, index=multi_index)\n",
    "new_df[:] = np.nan\n",
    "\n",
    "\n",
    "\n",
    "scorer = data_to_copy.columns.get_level_values(0).unique()[0]\n",
    "bodyparts = data_to_copy.columns.get_level_values(2).unique()\n",
    "\n",
    "\n",
    "#Copy data: i is a number: index of the image, j is a string of the current bodypart\n",
    "for i in range(length):\n",
    "    for j in bodyparts:\n",
    "        for k in [\"x\", \"y\"]:\n",
    "            new_df.loc[new_df.index[i], (experimenter_name, j, k)] = data_to_copy.loc[data_to_copy.index[i], (scorer, \"animal\", j, k)]\n",
    "new_df.to_hdf(\"CollectedData_\" + experimenter_name + \".h5\", key=\"df_with_missing\", mode=\"w\")\n",
    "\n",
    "#THEN PASTE THE CREATED FILE INTO YOUR ANALYSIS FOLDER"
   ]
  },
  {
   "cell_type": "markdown",
   "id": "325fce55-dc2d-4413-98f6-d024c4be1d1e",
   "metadata": {},
   "source": [
    "# Refine frames\n",
    "Paste the newly created .h5 file into your folder in labeled-data with your analyzed data, and then go back to the napari editor to see the labels"
   ]
  },
  {
   "cell_type": "code",
   "execution_count": 153,
   "id": "b8f843f4-4aee-42f1-9f4d-fee0c36b37fc",
   "metadata": {},
   "outputs": [],
   "source": [
    "#Now run this again, and open your config file and the analysis folder. you should be able to see the predicted points of the network\n",
    "#    and be able to edit them. And, when you save, a csv should be created that you can do analysis with.\n",
    "deeplabcut.label_frames(config_path)"
   ]
  },
  {
   "cell_type": "code",
   "execution_count": null,
   "id": "b3d24d28-3e14-4150-900c-045dc4e2b23d",
   "metadata": {},
   "outputs": [],
   "source": []
  }
 ],
 "metadata": {
  "kernelspec": {
   "display_name": "Python [conda env:DEEPLABCUT]",
   "language": "python",
   "name": "conda-env-DEEPLABCUT-py"
  },
  "language_info": {
   "codemirror_mode": {
    "name": "ipython",
    "version": 3
   },
   "file_extension": ".py",
   "mimetype": "text/x-python",
   "name": "python",
   "nbconvert_exporter": "python",
   "pygments_lexer": "ipython3",
   "version": "3.10.18"
  }
 },
 "nbformat": 4,
 "nbformat_minor": 5
}
